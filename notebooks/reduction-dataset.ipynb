{
 "cells": [
  {
   "cell_type": "code",
   "execution_count": 4,
   "metadata": {},
   "outputs": [],
   "source": [
    "import pandas as pd\n",
    "\n",
    "RAW_PATH = \"../datasets/raw_data/\"\n",
    "DATA_PATH = \"../datasets/filtered_data/\"\n",
    "\n",
    "# Define a function to process chunks of the file\n",
    "def filter_movies_chunk(chunk, min_votes):\n",
    "    # Filter basics to include only movies\n",
    "    movies_chunk = chunk[chunk['titleType'] == 'movie']\n",
    "    return movies_chunk\n",
    "\n",
    "# Load and filter the basics dataset in chunks\n",
    "chunksize = 10 ** 6  # Adjust the chunk size based on your memory capacity\n",
    "filtered_chunks = []\n",
    "\n",
    "for chunk in pd.read_csv(f'{RAW_PATH}title.basics.tsv', sep='\\t', chunksize=chunksize, low_memory=False):\n",
    "    filtered_chunk = filter_movies_chunk(chunk, min_votes=None)\n",
    "    filtered_chunks.append(filtered_chunk)\n",
    "\n",
    "# Concatenate filtered chunks\n",
    "movies = pd.concat(filtered_chunks, ignore_index=True)\n",
    "\n",
    "# Load the ratings dataset\n",
    "ratings = pd.read_csv(f'{RAW_PATH}title.ratings.tsv', sep='\\t', low_memory=False)\n",
    "\n",
    "# Merge the datasets on 'tconst'\n",
    "merged = pd.merge(movies, ratings, on='tconst')\n",
    "\n",
    "# Filter the merged dataset to include only movies with a minimum number of votes (e.g., 1000)\n",
    "min_votes = 1000\n",
    "filtered_movies = merged[merged['numVotes'] >= min_votes]\n",
    "\n",
    "# Save the filtered dataset to a new file\n",
    "filtered_movies.to_csv(f'{DATA_PATH}filtered_movies.csv', index=False)\n"
   ]
  },
  {
   "cell_type": "code",
   "execution_count": 6,
   "metadata": {},
   "outputs": [],
   "source": [
    "import pandas as pd\n",
    "\n",
    "# Define chunk processing function\n",
    "def filter_principals_chunk(chunk, movie_ids):\n",
    "    # Filter principals to include only those related to our filtered movies\n",
    "    filtered_chunk = chunk[chunk['tconst'].isin(movie_ids)]\n",
    "    return filtered_chunk\n",
    "\n",
    "# Load the filtered movies dataset from the previous step\n",
    "filtered_movies = pd.read_csv(f'{DATA_PATH}filtered_movies.csv')\n",
    "\n",
    "\n",
    "def filter(name):\n",
    "    # Extract the movie IDs\n",
    "    movie_ids = set(filtered_movies['tconst'])\n",
    "\n",
    "    # Load and filter the $name dataset in chunks\n",
    "    chunksize = 10 ** 6  # Adjust the chunk size based on your memory capacity\n",
    "    filtered_principals_chunks = []\n",
    "\n",
    "    for chunk in pd.read_csv(f'{RAW_PATH}title.{name}.tsv', sep='\\t', chunksize=chunksize, low_memory=False):\n",
    "        filtered_chunk = filter_principals_chunk(chunk, movie_ids)\n",
    "        filtered_principals_chunks.append(filtered_chunk)\n",
    "\n",
    "    # Concatenate filtered chunks\n",
    "    filtered_principals = pd.concat(filtered_principals_chunks, ignore_index=True)\n",
    "\n",
    "    # Save the filtered principals dataset to a new file\n",
    "    filtered_principals.to_csv(f'{DATA_PATH}filtered_{name}.csv', index=False)\n"
   ]
  },
  {
   "cell_type": "code",
   "execution_count": 8,
   "metadata": {},
   "outputs": [],
   "source": [
    "filter(\"ratings\")"
   ]
  },
  {
   "cell_type": "code",
   "execution_count": null,
   "metadata": {},
   "outputs": [],
   "source": [
    "filter(\"crew\")"
   ]
  },
  {
   "cell_type": "code",
   "execution_count": null,
   "metadata": {},
   "outputs": [],
   "source": [
    "filter(\"principals\")"
   ]
  },
  {
   "cell_type": "code",
   "execution_count": 12,
   "metadata": {},
   "outputs": [],
   "source": [
    "import pandas as pd\n",
    "\n",
    "# Load the filtered principals dataset\n",
    "filtered_principals = pd.read_csv(f'{DATA_PATH}filtered_principals.csv')\n",
    "\n",
    "# Filter to include only rows where the category is 'actor' or 'actress'\n",
    "actors_actresses = filtered_principals[filtered_principals['category'].isin(['actor', 'actress'])]\n",
    "\n",
    "# Select only the columns 'tconst', 'ordering', 'nconst', and 'characters'\n",
    "actors_actresses_filtered = actors_actresses[['tconst', 'ordering', 'nconst', 'characters']]\n",
    "\n",
    "# Save the result to a new CSV file\n",
    "actors_actresses_filtered.to_csv(f'{DATA_PATH}actors_actresses.csv', index=False)\n"
   ]
  },
  {
   "cell_type": "code",
   "execution_count": 14,
   "metadata": {},
   "outputs": [],
   "source": [
    "import pandas as pd\n",
    "\n",
    "# Load the filtered actors and actresses dataset\n",
    "actors_actresses = pd.read_csv(f'{DATA_PATH}actors_actresses.csv')\n",
    "\n",
    "# Extract unique nconst values for actors and actresses\n",
    "actor_actress_ids = set(actors_actresses['nconst'])\n",
    "\n",
    "# Define chunk processing function\n",
    "def filter_name_basics_chunk(chunk, actor_actress_ids):\n",
    "    # Filter name.basics to include only actors and actresses in our set\n",
    "    filtered_chunk = chunk[chunk['nconst'].isin(actor_actress_ids)]\n",
    "    return filtered_chunk\n",
    "\n",
    "# Load and filter the name.basics dataset in chunks\n",
    "chunksize = 10 ** 6  # Adjust the chunk size based on your memory capacity\n",
    "filtered_name_basics_chunks = []\n",
    "\n",
    "for chunk in pd.read_csv(f'{RAW_PATH}name.basics.tsv', sep='\\t', chunksize=chunksize, low_memory=False):\n",
    "    filtered_chunk = filter_name_basics_chunk(chunk, actor_actress_ids)\n",
    "    filtered_name_basics_chunks.append(filtered_chunk)\n",
    "\n",
    "# Concatenate filtered chunks\n",
    "filtered_name_basics = pd.concat(filtered_name_basics_chunks, ignore_index=True)\n",
    "\n",
    "# Save the filtered name.basics dataset to a new file\n",
    "filtered_name_basics.to_csv(f'{DATA_PATH}filtered_name_basics.csv', index=False)\n"
   ]
  }
 ],
 "metadata": {
  "kernelspec": {
   "display_name": "base",
   "language": "python",
   "name": "python3"
  },
  "language_info": {
   "codemirror_mode": {
    "name": "ipython",
    "version": 3
   },
   "file_extension": ".py",
   "mimetype": "text/x-python",
   "name": "python",
   "nbconvert_exporter": "python",
   "pygments_lexer": "ipython3",
   "version": "3.11.5"
  }
 },
 "nbformat": 4,
 "nbformat_minor": 2
}
