{
 "cells": [
  {
   "cell_type": "code",
   "execution_count": 1,
   "metadata": {},
   "outputs": [],
   "source": [
    "from itertools import combinations\n",
    "from pyspark.sql import SparkSession\n",
    "from pyspark.sql.functions import split, explode, collect_list, col\n",
    "import networkx as nx\n",
    "\n",
    "import matplotlib.pyplot as plt"
   ]
  },
  {
   "cell_type": "code",
   "execution_count": 2,
   "metadata": {},
   "outputs": [],
   "source": [
    "PATH_TO_DATASETS = 'file:///home/wyvern/ING2/HACKATHON-2025/datasets/'"
   ]
  },
  {
   "cell_type": "code",
   "execution_count": 3,
   "metadata": {},
   "outputs": [
    {
     "name": "stderr",
     "output_type": "stream",
     "text": [
      "your 131072x1 screen size is bogus. expect trouble\n",
      "24/07/07 12:24:25 WARN Utils: Your hostname, Bhava-Agra resolves to a loopback address: 127.0.1.1; using 10.255.255.254 instead (on interface lo)\n",
      "24/07/07 12:24:25 WARN Utils: Set SPARK_LOCAL_IP if you need to bind to another address\n",
      "24/07/07 12:24:25 WARN NativeCodeLoader: Unable to load native-hadoop library for your platform... using builtin-java classes where applicable\n"
     ]
    }
   ],
   "source": [
    "spark = SparkSession.builder \\\n",
    "    .appName(\"GenreCooccurrenceGraph\") \\\n",
    "    .config(\"spark.driver.memory\", \"4g\") \\\n",
    "    .getOrCreate()"
   ]
  },
  {
   "cell_type": "code",
   "execution_count": 4,
   "metadata": {},
   "outputs": [],
   "source": [
    "titles_df = spark.read.csv(PATH_TO_DATASETS + 'title.basics.tsv', sep='\\t', header=True, nullValue='\\\\N')\n",
    "exploded_genres_df = titles_df.withColumn(\"genre\", explode(split(col(\"genres\"), ',')))"
   ]
  },
  {
   "cell_type": "code",
   "execution_count": 5,
   "metadata": {},
   "outputs": [],
   "source": [
    "genre_combinations = exploded_genres_df.groupBy('tconst').agg(collect_list('genre').alias('genres'))"
   ]
  },
  {
   "cell_type": "code",
   "execution_count": 6,
   "metadata": {},
   "outputs": [],
   "source": [
    "def process_partition(partition):\n",
    "    partition_graph = nx.Graph()\n",
    "    for movie in partition:\n",
    "        tconst, genres = movie\n",
    "        if genres:\n",
    "            for genre1, genre2 in combinations(genres, 2):\n",
    "                if partition_graph.has_edge(genre1, genre2):\n",
    "                    partition_graph[genre1][genre2]['weight'] += 1\n",
    "                else:\n",
    "                    partition_graph.add_edge(genre1, genre2, weight=1)\n",
    "    return partition_graph"
   ]
  },
  {
   "cell_type": "code",
   "execution_count": 7,
   "metadata": {},
   "outputs": [
    {
     "name": "stderr",
     "output_type": "stream",
     "text": [
      "24/07/07 12:24:38 WARN GarbageCollectionMetrics: To enable non-built-in garbage collector(s) List(G1 Concurrent GC), users should configure it(them) to spark.eventLog.gcMetrics.youngGenerationGarbageCollectors or spark.eventLog.gcMetrics.oldGenerationGarbageCollectors\n",
      "                                                                                \r"
     ]
    }
   ],
   "source": [
    "G = nx.Graph()\n",
    "\n",
    "for partition in genre_combinations.rdd.mapPartitions(lambda x: [process_partition(x)]).collect():\n",
    "    G = nx.compose(G, partition)"
   ]
  },
  {
   "cell_type": "code",
   "execution_count": null,
   "metadata": {},
   "outputs": [],
   "source": [
    "plt.figure(figsize=(12, 8))\n",
    "pos = nx.spring_layout(G, seed=42)\n",
    "nx.draw(G, pos, with_labels=True, node_size=300, font_size=10, font_color='black', node_color='skyblue', edge_color='gray', linewidths=0.5)\n",
    "plt.title('Genre Co-Occurrence Graph')\n",
    "plt.show()"
   ]
  },
  {
   "cell_type": "code",
   "execution_count": 8,
   "metadata": {},
   "outputs": [],
   "source": [
    "nx.write_graphml(G, '../graphs/genre_cooccurrence_graph.graphml')"
   ]
  },
  {
   "cell_type": "code",
   "execution_count": 9,
   "metadata": {},
   "outputs": [],
   "source": [
    "spark.stop()"
   ]
  }
 ],
 "metadata": {
  "kernelspec": {
   "display_name": "Hackathon-MwRiGhNq",
   "language": "python",
   "name": "python3"
  },
  "language_info": {
   "codemirror_mode": {
    "name": "ipython",
    "version": 3
   },
   "file_extension": ".py",
   "mimetype": "text/x-python",
   "name": "python",
   "nbconvert_exporter": "python",
   "pygments_lexer": "ipython3",
   "version": "3.12.4"
  }
 },
 "nbformat": 4,
 "nbformat_minor": 2
}
